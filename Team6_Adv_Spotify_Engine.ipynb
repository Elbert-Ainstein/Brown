{
 "cells": [
  {
   "cell_type": "code",
   "execution_count": 2,
   "id": "02b93fd0",
   "metadata": {
    "scrolled": true
   },
   "outputs": [],
   "source": [
    "import pandas as pd\n",
    "from sklearn.cluster import KMeans"
   ]
  },
  {
   "cell_type": "code",
   "execution_count": 13,
   "id": "06e6a223",
   "metadata": {},
   "outputs": [
    {
     "name": "stderr",
     "output_type": "stream",
     "text": [
      "C:\\Users\\iwu48\\AppData\\Local\\Packages\\PythonSoftwareFoundation.Python.3.9_qbz5n2kfra8p0\\LocalCache\\local-packages\\Python39\\site-packages\\sklearn\\cluster\\_kmeans.py:1412: FutureWarning: The default value of `n_init` will change from 10 to 'auto' in 1.4. Set the value of `n_init` explicitly to suppress the warning\n",
      "  super()._check_params_vs_input(X, default_n_init=10)\n"
     ]
    },
    {
     "name": "stdout",
     "output_type": "stream",
     "text": [
      "Enter comma-separated ids of your favorite songs\n",
      "> 2KQsUB9DRBcJk17JWX1eXD\n"
     ]
    },
    {
     "ename": "ValueError",
     "evalue": "attempt to get argmax of an empty sequence",
     "output_type": "error",
     "traceback": [
      "\u001b[1;31m---------------------------------------------------------------------------\u001b[0m",
      "\u001b[1;31mValueError\u001b[0m                                Traceback (most recent call last)",
      "Cell \u001b[1;32mIn[13], line 28\u001b[0m\n\u001b[0;32m     26\u001b[0m \u001b[38;5;66;03m# Find out the most frequent cluster among the user's favorite songs\u001b[39;00m\n\u001b[0;32m     27\u001b[0m clusters \u001b[38;5;241m=\u001b[39m favorites[\u001b[38;5;124m'\u001b[39m\u001b[38;5;124mtype\u001b[39m\u001b[38;5;124m'\u001b[39m]\u001b[38;5;241m.\u001b[39mvalue_counts()\n\u001b[1;32m---> 28\u001b[0m user_favorite_cluster \u001b[38;5;241m=\u001b[39m \u001b[43mclusters\u001b[49m\u001b[38;5;241;43m.\u001b[39;49m\u001b[43midxmax\u001b[49m\u001b[43m(\u001b[49m\u001b[43m)\u001b[49m\n\u001b[0;32m     30\u001b[0m \u001b[38;5;66;03m# Get the songs that belong to the user's favorite cluster\u001b[39;00m\n\u001b[0;32m     31\u001b[0m suggestions \u001b[38;5;241m=\u001b[39m tracks[tracks[\u001b[38;5;124m'\u001b[39m\u001b[38;5;124mtype\u001b[39m\u001b[38;5;124m'\u001b[39m] \u001b[38;5;241m==\u001b[39m user_favorite_cluster]\n",
      "File \u001b[1;32m~\\AppData\\Local\\Packages\\PythonSoftwareFoundation.Python.3.9_qbz5n2kfra8p0\\LocalCache\\local-packages\\Python39\\site-packages\\pandas\\core\\series.py:2531\u001b[0m, in \u001b[0;36mSeries.idxmax\u001b[1;34m(self, axis, skipna, *args, **kwargs)\u001b[0m\n\u001b[0;32m   2466\u001b[0m \u001b[38;5;250m\u001b[39m\u001b[38;5;124;03m\"\"\"\u001b[39;00m\n\u001b[0;32m   2467\u001b[0m \u001b[38;5;124;03mReturn the row label of the maximum value.\u001b[39;00m\n\u001b[0;32m   2468\u001b[0m \n\u001b[1;32m   (...)\u001b[0m\n\u001b[0;32m   2527\u001b[0m \u001b[38;5;124;03mnan\u001b[39;00m\n\u001b[0;32m   2528\u001b[0m \u001b[38;5;124;03m\"\"\"\u001b[39;00m\n\u001b[0;32m   2529\u001b[0m \u001b[38;5;66;03m# error: Argument 1 to \"argmax\" of \"IndexOpsMixin\" has incompatible type\u001b[39;00m\n\u001b[0;32m   2530\u001b[0m \u001b[38;5;66;03m# \"Union[int, Literal['index', 'columns']]\"; expected \"Optional[int]\"\u001b[39;00m\n\u001b[1;32m-> 2531\u001b[0m i \u001b[38;5;241m=\u001b[39m \u001b[38;5;28mself\u001b[39m\u001b[38;5;241m.\u001b[39margmax(axis, skipna, \u001b[38;5;241m*\u001b[39margs, \u001b[38;5;241m*\u001b[39m\u001b[38;5;241m*\u001b[39mkwargs)  \u001b[38;5;66;03m# type: ignore[arg-type]\u001b[39;00m\n\u001b[0;32m   2532\u001b[0m \u001b[38;5;28;01mif\u001b[39;00m i \u001b[38;5;241m==\u001b[39m \u001b[38;5;241m-\u001b[39m\u001b[38;5;241m1\u001b[39m:\n\u001b[0;32m   2533\u001b[0m     \u001b[38;5;28;01mreturn\u001b[39;00m np\u001b[38;5;241m.\u001b[39mnan\n",
      "File \u001b[1;32m~\\AppData\\Local\\Packages\\PythonSoftwareFoundation.Python.3.9_qbz5n2kfra8p0\\LocalCache\\local-packages\\Python39\\site-packages\\pandas\\core\\base.py:678\u001b[0m, in \u001b[0;36mIndexOpsMixin.argmax\u001b[1;34m(self, axis, skipna, *args, **kwargs)\u001b[0m\n\u001b[0;32m    674\u001b[0m         \u001b[38;5;28;01mreturn\u001b[39;00m delegate\u001b[38;5;241m.\u001b[39margmax()\n\u001b[0;32m    675\u001b[0m \u001b[38;5;28;01melse\u001b[39;00m:\n\u001b[0;32m    676\u001b[0m     \u001b[38;5;66;03m# error: Incompatible return value type (got \"Union[int, ndarray]\", expected\u001b[39;00m\n\u001b[0;32m    677\u001b[0m     \u001b[38;5;66;03m# \"int\")\u001b[39;00m\n\u001b[1;32m--> 678\u001b[0m     \u001b[38;5;28;01mreturn\u001b[39;00m \u001b[43mnanops\u001b[49m\u001b[38;5;241;43m.\u001b[39;49m\u001b[43mnanargmax\u001b[49m\u001b[43m(\u001b[49m\u001b[43m  \u001b[49m\u001b[38;5;66;43;03m# type: ignore[return-value]\u001b[39;49;00m\n\u001b[0;32m    679\u001b[0m \u001b[43m        \u001b[49m\u001b[43mdelegate\u001b[49m\u001b[43m,\u001b[49m\u001b[43m \u001b[49m\u001b[43mskipna\u001b[49m\u001b[38;5;241;43m=\u001b[39;49m\u001b[43mskipna\u001b[49m\n\u001b[0;32m    680\u001b[0m \u001b[43m    \u001b[49m\u001b[43m)\u001b[49m\n",
      "File \u001b[1;32m~\\AppData\\Local\\Packages\\PythonSoftwareFoundation.Python.3.9_qbz5n2kfra8p0\\LocalCache\\local-packages\\Python39\\site-packages\\pandas\\core\\nanops.py:96\u001b[0m, in \u001b[0;36mdisallow.__call__.<locals>._f\u001b[1;34m(*args, **kwargs)\u001b[0m\n\u001b[0;32m     94\u001b[0m \u001b[38;5;28;01mtry\u001b[39;00m:\n\u001b[0;32m     95\u001b[0m     \u001b[38;5;28;01mwith\u001b[39;00m np\u001b[38;5;241m.\u001b[39merrstate(invalid\u001b[38;5;241m=\u001b[39m\u001b[38;5;124m\"\u001b[39m\u001b[38;5;124mignore\u001b[39m\u001b[38;5;124m\"\u001b[39m):\n\u001b[1;32m---> 96\u001b[0m         \u001b[38;5;28;01mreturn\u001b[39;00m f(\u001b[38;5;241m*\u001b[39margs, \u001b[38;5;241m*\u001b[39m\u001b[38;5;241m*\u001b[39mkwargs)\n\u001b[0;32m     97\u001b[0m \u001b[38;5;28;01mexcept\u001b[39;00m \u001b[38;5;167;01mValueError\u001b[39;00m \u001b[38;5;28;01mas\u001b[39;00m e:\n\u001b[0;32m     98\u001b[0m     \u001b[38;5;66;03m# we want to transform an object array\u001b[39;00m\n\u001b[0;32m     99\u001b[0m     \u001b[38;5;66;03m# ValueError message to the more typical TypeError\u001b[39;00m\n\u001b[0;32m    100\u001b[0m     \u001b[38;5;66;03m# e.g. this is normally a disallowed function on\u001b[39;00m\n\u001b[0;32m    101\u001b[0m     \u001b[38;5;66;03m# object arrays that contain strings\u001b[39;00m\n\u001b[0;32m    102\u001b[0m     \u001b[38;5;28;01mif\u001b[39;00m is_object_dtype(args[\u001b[38;5;241m0\u001b[39m]):\n",
      "File \u001b[1;32m~\\AppData\\Local\\Packages\\PythonSoftwareFoundation.Python.3.9_qbz5n2kfra8p0\\LocalCache\\local-packages\\Python39\\site-packages\\pandas\\core\\nanops.py:1147\u001b[0m, in \u001b[0;36mnanargmax\u001b[1;34m(values, axis, skipna, mask)\u001b[0m\n\u001b[0;32m   1145\u001b[0m values, mask, _, _, _ \u001b[38;5;241m=\u001b[39m _get_values(values, \u001b[38;5;28;01mTrue\u001b[39;00m, fill_value_typ\u001b[38;5;241m=\u001b[39m\u001b[38;5;124m\"\u001b[39m\u001b[38;5;124m-inf\u001b[39m\u001b[38;5;124m\"\u001b[39m, mask\u001b[38;5;241m=\u001b[39mmask)\n\u001b[0;32m   1146\u001b[0m \u001b[38;5;66;03m# error: Need type annotation for 'result'\u001b[39;00m\n\u001b[1;32m-> 1147\u001b[0m result \u001b[38;5;241m=\u001b[39m \u001b[43mvalues\u001b[49m\u001b[38;5;241;43m.\u001b[39;49m\u001b[43margmax\u001b[49m\u001b[43m(\u001b[49m\u001b[43maxis\u001b[49m\u001b[43m)\u001b[49m  \u001b[38;5;66;03m# type: ignore[var-annotated]\u001b[39;00m\n\u001b[0;32m   1148\u001b[0m result \u001b[38;5;241m=\u001b[39m _maybe_arg_null_out(result, axis, mask, skipna)\n\u001b[0;32m   1149\u001b[0m \u001b[38;5;28;01mreturn\u001b[39;00m result\n",
      "\u001b[1;31mValueError\u001b[0m: attempt to get argmax of an empty sequence"
     ]
    }
   ],
   "source": [
    "tracks_df = pd.read_csv(\"./assets/spotify_tracks.csv\")\n",
    "\n",
    "# clustering\n",
    "\n",
    "tracks = tracks_df[[\"acousticness\",\"danceability\",\"energy\",\"instrumentalness\",\"liveness\",\"speechiness\",\"valence\"]]\n",
    "\n",
    "# Initialize the KMeans model with 5 clusters\n",
    "kmeans = KMeans(n_clusters=5)\n",
    "\n",
    "# Train\n",
    "kmeans.fit(tracks)\n",
    "\n",
    "# Add a new column 'type' to the dataframe. This column will contain the cluster number each track belongs to.\n",
    "tracks_df[\"type\"] = kmeans.labels_\n",
    "\n",
    "# Save the dataframe with cluster information as a new CSV file\n",
    "tracks_df.to_csv(\"./dist/result.csv\", index=False)\n",
    "\n",
    "# Load the updated data with cluster info\n",
    "tracks = pd.read_csv(\"dist/result.csv\")\n",
    "\n",
    "# Prompt the user to enter their favorite songs' ids\n",
    "ids = input('Enter comma-separated ids of your favorite songs\\n> ').strip().split(',')\n",
    "\n",
    "# Filter the dataframe to get the user's favorite songs\n",
    "favorites = tracks[tracks['id'].isin(ids)]\n",
    "\n",
    "# Find out the most frequent cluster among the user's favorite songs\n",
    "clusters = favorites['type'].value_counts()\n",
    "user_favorite_cluster = clusters.idxmax()\n",
    "\n",
    "# Get the songs that belong to the user's favorite cluster\n",
    "suggestions = tracks[tracks['type'] == user_favorite_cluster]\n",
    "\n",
    "# Print the first 5 song suggestions\n",
    "suggestions.head()"
   ]
  },
  {
   "cell_type": "code",
   "execution_count": 18,
   "id": "16e4030e",
   "metadata": {},
   "outputs": [
    {
     "data": {
      "text/html": [
       "<div>\n",
       "<style scoped>\n",
       "    .dataframe tbody tr th:only-of-type {\n",
       "        vertical-align: middle;\n",
       "    }\n",
       "\n",
       "    .dataframe tbody tr th {\n",
       "        vertical-align: top;\n",
       "    }\n",
       "\n",
       "    .dataframe thead th {\n",
       "        text-align: right;\n",
       "    }\n",
       "</style>\n",
       "<table border=\"1\" class=\"dataframe\">\n",
       "  <thead>\n",
       "    <tr style=\"text-align: right;\">\n",
       "      <th></th>\n",
       "      <th>acousticness</th>\n",
       "      <th>danceability</th>\n",
       "      <th>energy</th>\n",
       "      <th>instrumentalness</th>\n",
       "      <th>liveness</th>\n",
       "      <th>speechiness</th>\n",
       "      <th>valence</th>\n",
       "    </tr>\n",
       "  </thead>\n",
       "  <tbody>\n",
       "    <tr>\n",
       "      <th>0</th>\n",
       "      <td>0.294</td>\n",
       "      <td>0.698</td>\n",
       "      <td>0.606</td>\n",
       "      <td>0.000003</td>\n",
       "      <td>0.151</td>\n",
       "      <td>0.0262</td>\n",
       "      <td>0.6220</td>\n",
       "    </tr>\n",
       "    <tr>\n",
       "      <th>1</th>\n",
       "      <td>0.863</td>\n",
       "      <td>0.719</td>\n",
       "      <td>0.308</td>\n",
       "      <td>0.000000</td>\n",
       "      <td>0.253</td>\n",
       "      <td>0.9220</td>\n",
       "      <td>0.5890</td>\n",
       "    </tr>\n",
       "    <tr>\n",
       "      <th>2</th>\n",
       "      <td>0.750</td>\n",
       "      <td>0.466</td>\n",
       "      <td>0.931</td>\n",
       "      <td>0.000000</td>\n",
       "      <td>0.938</td>\n",
       "      <td>0.9440</td>\n",
       "      <td>0.0850</td>\n",
       "    </tr>\n",
       "    <tr>\n",
       "      <th>3</th>\n",
       "      <td>0.763</td>\n",
       "      <td>0.719</td>\n",
       "      <td>0.126</td>\n",
       "      <td>0.000000</td>\n",
       "      <td>0.113</td>\n",
       "      <td>0.9380</td>\n",
       "      <td>0.5330</td>\n",
       "    </tr>\n",
       "    <tr>\n",
       "      <th>4</th>\n",
       "      <td>0.770</td>\n",
       "      <td>0.460</td>\n",
       "      <td>0.942</td>\n",
       "      <td>0.000000</td>\n",
       "      <td>0.917</td>\n",
       "      <td>0.9430</td>\n",
       "      <td>0.0906</td>\n",
       "    </tr>\n",
       "  </tbody>\n",
       "</table>\n",
       "</div>"
      ],
      "text/plain": [
       "   acousticness  danceability  energy  instrumentalness  liveness  \\\n",
       "0         0.294         0.698   0.606          0.000003     0.151   \n",
       "1         0.863         0.719   0.308          0.000000     0.253   \n",
       "2         0.750         0.466   0.931          0.000000     0.938   \n",
       "3         0.763         0.719   0.126          0.000000     0.113   \n",
       "4         0.770         0.460   0.942          0.000000     0.917   \n",
       "\n",
       "   speechiness  valence  \n",
       "0       0.0262   0.6220  \n",
       "1       0.9220   0.5890  \n",
       "2       0.9440   0.0850  \n",
       "3       0.9380   0.5330  \n",
       "4       0.9430   0.0906  "
      ]
     },
     "execution_count": 18,
     "metadata": {},
     "output_type": "execute_result"
    }
   ],
   "source": [
    "import matplotlib.pyplot as plt\n",
    "\n",
    "# Load Data\n",
    "def loadData(path):\n",
    "    tracks_df = pd.read_csv(path)\n",
    "    tracks = tracks_df[[\"acousticness\",\"danceability\",\"energy\",\"instrumentalness\",\"liveness\",\"speechiness\",\"valence\"]]\n",
    "    return tracks\n",
    "\n",
    "data = loadData(\"./assets/Spotify_tracks.csv\")\n",
    "data.head()\n"
   ]
  },
  {
   "cell_type": "code",
   "execution_count": 10,
   "id": "a64dcaf1",
   "metadata": {},
   "outputs": [
    {
     "data": {
      "text/html": [
       "<div>\n",
       "<style scoped>\n",
       "    .dataframe tbody tr th:only-of-type {\n",
       "        vertical-align: middle;\n",
       "    }\n",
       "\n",
       "    .dataframe tbody tr th {\n",
       "        vertical-align: top;\n",
       "    }\n",
       "\n",
       "    .dataframe thead th {\n",
       "        text-align: right;\n",
       "    }\n",
       "</style>\n",
       "<table border=\"1\" class=\"dataframe\">\n",
       "  <thead>\n",
       "    <tr style=\"text-align: right;\">\n",
       "      <th></th>\n",
       "      <th>acousticness</th>\n",
       "      <th>danceability</th>\n",
       "      <th>energy</th>\n",
       "      <th>instrumentalness</th>\n",
       "      <th>liveness</th>\n",
       "      <th>speechiness</th>\n",
       "      <th>valence</th>\n",
       "    </tr>\n",
       "  </thead>\n",
       "  <tbody>\n",
       "    <tr>\n",
       "      <th>acousticness</th>\n",
       "      <td>1.000000</td>\n",
       "      <td>-0.270211</td>\n",
       "      <td>-0.715392</td>\n",
       "      <td>0.209567</td>\n",
       "      <td>-0.028647</td>\n",
       "      <td>0.159875</td>\n",
       "      <td>-0.250675</td>\n",
       "    </tr>\n",
       "    <tr>\n",
       "      <th>danceability</th>\n",
       "      <td>-0.270211</td>\n",
       "      <td>1.000000</td>\n",
       "      <td>0.249542</td>\n",
       "      <td>-0.286676</td>\n",
       "      <td>-0.073848</td>\n",
       "      <td>0.159351</td>\n",
       "      <td>0.524972</td>\n",
       "    </tr>\n",
       "    <tr>\n",
       "      <th>energy</th>\n",
       "      <td>-0.715392</td>\n",
       "      <td>0.249542</td>\n",
       "      <td>1.000000</td>\n",
       "      <td>-0.257773</td>\n",
       "      <td>0.172516</td>\n",
       "      <td>-0.128948</td>\n",
       "      <td>0.406321</td>\n",
       "    </tr>\n",
       "    <tr>\n",
       "      <th>instrumentalness</th>\n",
       "      <td>0.209567</td>\n",
       "      <td>-0.286676</td>\n",
       "      <td>-0.257773</td>\n",
       "      <td>1.000000</td>\n",
       "      <td>-0.092166</td>\n",
       "      <td>-0.156240</td>\n",
       "      <td>-0.313378</td>\n",
       "    </tr>\n",
       "    <tr>\n",
       "      <th>liveness</th>\n",
       "      <td>-0.028647</td>\n",
       "      <td>-0.073848</td>\n",
       "      <td>0.172516</td>\n",
       "      <td>-0.092166</td>\n",
       "      <td>1.000000</td>\n",
       "      <td>0.235548</td>\n",
       "      <td>0.033650</td>\n",
       "    </tr>\n",
       "    <tr>\n",
       "      <th>speechiness</th>\n",
       "      <td>0.159875</td>\n",
       "      <td>0.159351</td>\n",
       "      <td>-0.128948</td>\n",
       "      <td>-0.156240</td>\n",
       "      <td>0.235548</td>\n",
       "      <td>1.000000</td>\n",
       "      <td>0.028572</td>\n",
       "    </tr>\n",
       "    <tr>\n",
       "      <th>valence</th>\n",
       "      <td>-0.250675</td>\n",
       "      <td>0.524972</td>\n",
       "      <td>0.406321</td>\n",
       "      <td>-0.313378</td>\n",
       "      <td>0.033650</td>\n",
       "      <td>0.028572</td>\n",
       "      <td>1.000000</td>\n",
       "    </tr>\n",
       "  </tbody>\n",
       "</table>\n",
       "</div>"
      ],
      "text/plain": [
       "                  acousticness  danceability    energy  instrumentalness  \\\n",
       "acousticness          1.000000     -0.270211 -0.715392          0.209567   \n",
       "danceability         -0.270211      1.000000  0.249542         -0.286676   \n",
       "energy               -0.715392      0.249542  1.000000         -0.257773   \n",
       "instrumentalness      0.209567     -0.286676 -0.257773          1.000000   \n",
       "liveness             -0.028647     -0.073848  0.172516         -0.092166   \n",
       "speechiness           0.159875      0.159351 -0.128948         -0.156240   \n",
       "valence              -0.250675      0.524972  0.406321         -0.313378   \n",
       "\n",
       "                  liveness  speechiness   valence  \n",
       "acousticness     -0.028647     0.159875 -0.250675  \n",
       "danceability     -0.073848     0.159351  0.524972  \n",
       "energy            0.172516    -0.128948  0.406321  \n",
       "instrumentalness -0.092166    -0.156240 -0.313378  \n",
       "liveness          1.000000     0.235548  0.033650  \n",
       "speechiness       0.235548     1.000000  0.028572  \n",
       "valence           0.033650     0.028572  1.000000  "
      ]
     },
     "execution_count": 10,
     "metadata": {},
     "output_type": "execute_result"
    }
   ],
   "source": [
    "# Make correlation matrix\n",
    "correlation = data.corr()\n",
    "correlation"
   ]
  },
  {
   "cell_type": "code",
   "execution_count": 16,
   "id": "4b35e0c4",
   "metadata": {},
   "outputs": [
    {
     "data": {
      "image/png": "[encoded data removed]",
      "text/plain": [
       "<Figure size 640x480 with 1 Axes>"
      ]
     },
     "metadata": {},
     "output_type": "display_data"
    }
   ],
   "source": [
    "plt.boxplot(data)\n",
    "plt.show()"
   ]
  },
  {
   "cell_type": "code",
   "execution_count": 42,
   "id": "d6046fac",
   "metadata": {},
   "outputs": [
    {
     "name": "stdout",
     "output_type": "stream",
     "text": [
      "0.5864791632319328 0.2601704025337212\n"
     ]
    },
    {
     "data": {
      "text/plain": [
       "(4308, 0)"
      ]
     },
     "execution_count": 42,
     "metadata": {},
     "output_type": "execute_result"
    }
   ],
   "source": [
    "# Function to find outliers\n",
    "\n",
    "def outliers(data):\n",
    "    mean_value = data.mean()\n",
    "    std_dev = data.std()\n",
    "    print(mean_value, std_dev)\n",
    "    threshold = 2\n",
    "    arrayLow = []\n",
    "    arrayUp = []\n",
    "    for d in data:\n",
    "        if d < (mean_value - std_dev * threshold):\n",
    "            arrayLow.append(data)\n",
    "        if d > (mean_value + std_dev * threshold):\n",
    "            arrayUp.append(data)\n",
    "    return len(arrayLow), len(arrayUp)\n",
    "            \n",
    "    \n",
    "    \n",
    "outliers(data[\"energy\"])"
   ]
  }
 ],
 "metadata": {
  "kernelspec": {
   "display_name": "Python 3 (ipykernel)",
   "language": "python",
   "name": "python3"
  },
  "language_info": {
   "codemirror_mode": {
    "name": "ipython",
    "version": 3
   },
   "file_extension": ".py",
   "mimetype": "text/x-python",
   "name": "python",
   "nbconvert_exporter": "python",
   "pygments_lexer": "ipython3",
   "version": "3.10.10"
  }
 },
 "nbformat": 4,
 "nbformat_minor": 5
}
